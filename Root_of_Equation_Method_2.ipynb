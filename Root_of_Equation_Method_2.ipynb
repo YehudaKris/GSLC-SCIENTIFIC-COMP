{
  "nbformat": 4,
  "nbformat_minor": 0,
  "metadata": {
    "colab": {
      "name": "Root of Equation Method 2.ipynb",
      "provenance": [],
      "authorship_tag": "ABX9TyM+FFZ91lSTBJL9RGbu+NHS",
      "include_colab_link": true
    },
    "kernelspec": {
      "name": "python3",
      "display_name": "Python 3"
    },
    "language_info": {
      "name": "python"
    }
  },
  "cells": [
    {
      "cell_type": "markdown",
      "metadata": {
        "id": "view-in-github",
        "colab_type": "text"
      },
      "source": [
        "<a href=\"https://colab.research.google.com/github/YehudaKris/GSLC-SCIENTIFIC-COMP/blob/main/Root_of_Equation_Method_2.ipynb\" target=\"_parent\"><img src=\"https://colab.research.google.com/assets/colab-badge.svg\" alt=\"Open In Colab\"/></a>"
      ]
    },
    {
      "cell_type": "markdown",
      "source": [
        "Newton Rhapson Method"
      ],
      "metadata": {
        "id": "jRqdc_bQ0WgJ"
      }
    },
    {
      "cell_type": "code",
      "execution_count": 1,
      "metadata": {
        "colab": {
          "base_uri": "https://localhost:8080/"
        },
        "id": "UUaO0Blz0VjM",
        "outputId": "6dd26d9c-dea4-4f12-8b8f-fa138fcc1955"
      },
      "outputs": [
        {
          "output_type": "stream",
          "name": "stdout",
          "text": [
            "newton_raphson =  1.4142857142857144\n",
            "sqrt(2) =  1.4142135623730951\n"
          ]
        }
      ],
      "source": [
        "import numpy as np\n",
        "f = lambda x:x**2-2\n",
        "f_prime = lambda x:2*x\n",
        "newton_raphson = 1.4 - (f(1.4)) / (f_prime(1.4))\n",
        "print(\"newton_raphson = \", newton_raphson)\n",
        "print(\"sqrt(2) = \", np.sqrt(2))"
      ]
    },
    {
      "cell_type": "code",
      "source": [
        "def my_newton(f,df,x0,tol):\n",
        "  #output is an estimation of the root of f\n",
        "  #using newton Raphson method\n",
        "  #recursive implementation\n",
        "  if abs(f(x0)) < tol:\n",
        "    return x0\n",
        "  else:\n",
        "    return my_newton(f,df,x0 - f(x0) / df(x0), tol)"
      ],
      "metadata": {
        "id": "hWqfCsp809fR"
      },
      "execution_count": 2,
      "outputs": []
    },
    {
      "cell_type": "code",
      "source": [
        "estimate = my_newton(f,f_prime,1.5, 1e-6)\n",
        "print(\"estimate = \", estimate)\n",
        "print(\"sqrt(2) = \", np.sqrt(2))"
      ],
      "metadata": {
        "colab": {
          "base_uri": "https://localhost:8080/"
        },
        "id": "qBPgJekm1aOZ",
        "outputId": "7f2bdf13-0651-4628-f986-5c2abf90487e"
      },
      "execution_count": 3,
      "outputs": [
        {
          "output_type": "stream",
          "name": "stdout",
          "text": [
            "estimate =  1.4142135623746899\n",
            "sqrt(2) =  1.4142135623730951\n"
          ]
        }
      ]
    }
  ]
}